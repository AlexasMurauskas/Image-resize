{
  "nbformat": 4,
  "nbformat_minor": 0,
  "metadata": {
    "colab": {
      "name": "Untitled10.ipynb",
      "provenance": [],
      "collapsed_sections": []
    },
    "kernelspec": {
      "name": "python3",
      "display_name": "Python 3"
    }
  },
  "cells": [
    {
      "cell_type": "code",
      "metadata": {
        "id": "8js7v6RhVL0s",
        "colab_type": "code",
        "colab": {}
      },
      "source": [
        "import cv2\n",
        "from PIL import Image\n",
        "from google.colab.patches import cv2_imshow\n",
        " \n",
        "img = cv2.imread('path/to/image.jpg', cv2.IMREAD_UNCHANGED)\n",
        " \n"
      ],
      "execution_count": 0,
      "outputs": []
    },
    {
      "cell_type": "markdown",
      "metadata": {
        "id": "AmFVsqI-RlGE",
        "colab_type": "text"
      },
      "source": [
        "<br> GRAYSCALE </br>"
      ]
    },
    {
      "cell_type": "code",
      "metadata": {
        "id": "2oOlyt30RjE5",
        "colab_type": "code",
        "colab": {}
      },
      "source": [
        "img = cv2.cvtColor(img, cv2.COLOR_BGR2GRAY)"
      ],
      "execution_count": 0,
      "outputs": []
    },
    {
      "cell_type": "markdown",
      "metadata": {
        "id": "MUqvePi7zouL",
        "colab_type": "text"
      },
      "source": [
        "<br> ROTATE BY 90 DEG </br>"
      ]
    },
    {
      "cell_type": "code",
      "metadata": {
        "id": "1CaiNQL4zPWM",
        "colab_type": "code",
        "colab": {}
      },
      "source": [
        "angle = 90\n",
        "height, width = img.shape[:2] # image shape has 3 dimensions\n",
        "image_center = (width/2, height/2) # getRotationMatrix2D needs coordinates in reverse order (width, height) compared to shape\n",
        "\n",
        "rotation_mat = cv2.getRotationMatrix2D(image_center, angle, 1.)\n",
        "\n",
        "# rotation calculates the cos and sin, taking absolutes of those.\n",
        "abs_cos = abs(rotation_mat[0,0]) \n",
        "abs_sin = abs(rotation_mat[0,1])\n",
        "\n",
        "# find the new width and height bounds\n",
        "bound_w = int(height * abs_sin + width * abs_cos)\n",
        "bound_h = int(height * abs_cos + width * abs_sin)\n",
        "\n",
        "# subtract old image center (bringing image back to origo) and adding the new image center coordinates\n",
        "rotation_mat[0, 2] += bound_w/2 - image_center[0]\n",
        "rotation_mat[1, 2] += bound_h/2 - image_center[1]\n",
        "\n",
        "# rotate image with the new bounds and translated rotation matrix\n",
        "img = cv2.warpAffine(img, rotation_mat, (bound_w, bound_h))"
      ],
      "execution_count": 0,
      "outputs": []
    },
    {
      "cell_type": "markdown",
      "metadata": {
        "id": "jPH-QUre1xMR",
        "colab_type": "text"
      },
      "source": [
        "<br> RESIZE </br>"
      ]
    },
    {
      "cell_type": "code",
      "metadata": {
        "id": "QBHYczC41uyc",
        "colab_type": "code",
        "outputId": "f63e5de3-3db7-4180-abe1-f65421cd01c3",
        "colab": {
          "base_uri": "https://localhost:8080/",
          "height": 53
        }
      },
      "source": [
        "print('Original Dimensions : ',img.shape)\n",
        " \n",
        "scale_percent = 60 # percent of original size\n",
        "width = int(img.shape[1] * scale_percent / 100)\n",
        "height = int(img.shape[0] * scale_percent / 100)\n",
        "dim = (176, 264)\n",
        "# resize image\n",
        "resized = cv2.resize(img, dim, interpolation = cv2.INTER_AREA)\n",
        " \n",
        "print('Resized Dimensions : ',resized.shape)"
      ],
      "execution_count": 0,
      "outputs": [
        {
          "output_type": "stream",
          "text": [
            "Original Dimensions :  (5184, 3880)\n",
            "Resized Dimensions :  (264, 176)\n"
          ],
          "name": "stdout"
        }
      ]
    },
    {
      "cell_type": "markdown",
      "metadata": {
        "id": "WDDDneOGRrAd",
        "colab_type": "text"
      },
      "source": [
        "<br> SAVE </br>"
      ]
    },
    {
      "cell_type": "code",
      "metadata": {
        "id": "dUZIY9fyRuvG",
        "colab_type": "code",
        "outputId": "a2c9026e-8beb-43f3-c86e-fa0501d63b76",
        "colab": {
          "base_uri": "https://localhost:8080/",
          "height": 35
        }
      },
      "source": [
        "cv2.imwrite(\"264.bmp\", resized)"
      ],
      "execution_count": 0,
      "outputs": [
        {
          "output_type": "execute_result",
          "data": {
            "text/plain": [
              "True"
            ]
          },
          "metadata": {
            "tags": []
          },
          "execution_count": 7
        }
      ]
    },
    {
      "cell_type": "markdown",
      "metadata": {
        "id": "NGxMTawAwM8b",
        "colab_type": "text"
      },
      "source": [
        "<br> DEBUG </br>"
      ]
    },
    {
      "cell_type": "code",
      "metadata": {
        "id": "kjKWReRyvr76",
        "colab_type": "code",
        "outputId": "a01cae41-88e9-494e-c5ce-2dc134f8d460",
        "colab": {
          "base_uri": "https://localhost:8080/",
          "height": 34
        }
      },
      "source": [
        "#!apt install file\n",
        "!file 264.bmp"
      ],
      "execution_count": 0,
      "outputs": [
        {
          "output_type": "stream",
          "text": [
            "264.bmp: PC bitmap, Windows 3.x format, 176 x 264 x 8\n"
          ],
          "name": "stdout"
        }
      ]
    }
  ]
}